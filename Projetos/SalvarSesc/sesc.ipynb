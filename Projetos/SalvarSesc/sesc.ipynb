{
 "cells": [
  {
   "cell_type": "code",
   "execution_count": 58,
   "id": "db3d453d",
   "metadata": {},
   "outputs": [
    {
     "data": {
      "text/plain": [
       "Point(x=351, y=683)"
      ]
     },
     "execution_count": 58,
     "metadata": {},
     "output_type": "execute_result"
    }
   ],
   "source": [
    "import pyautogui\n",
    "time.sleep(5)\n",
    "pyautogui.position()"
   ]
  },
  {
   "cell_type": "code",
   "execution_count": null,
   "id": "58deda12",
   "metadata": {},
   "outputs": [],
   "source": [
    "import pyautogui\n",
    "import time\n",
    "time.sleep(5)\n",
    "pyautogui.scroll(-600)\n",
    "while True:\n",
    "    time.sleep(5)\n",
    "    pyautogui.alert(pyautogui.position())"
   ]
  },
  {
   "cell_type": "code",
   "execution_count": null,
   "id": "b3c39520",
   "metadata": {},
   "outputs": [],
   "source": []
  },
  {
   "cell_type": "code",
   "execution_count": 123,
   "id": "f292682a",
   "metadata": {},
   "outputs": [
    {
     "name": "stdout",
     "output_type": "stream",
     "text": [
      "Cemiterio Santa Maria\n",
      "confidencial\n",
      "Nome:Levi Viana\n",
      "Email:halves@gmail.org\n",
      "CPF:253.894.716-28\n",
      "------------------------------\n",
      "Cemiterio Santa Maria\n",
      "confidencial\n",
      "Nome:Dra. Eduarda Dias\n",
      "Email:lgoncalves@gmail.com\n",
      "CPF:379.061.254-52\n",
      "------------------------------\n",
      "Cemiterio Santa Maria\n",
      "confidencial\n",
      "Nome:Pedro Nogueira\n",
      "Email:mramos@gmail.org\n",
      "CPF:582.169.730-12\n",
      "------------------------------\n",
      "Cemiterio Santa Maria\n",
      "confidencial\n",
      "Nome:Sophia Araújo\n",
      "Email:antoniorocha@gmail.org\n",
      "CPF:732.986.145-64\n",
      "------------------------------\n",
      "Cemiterio Santa Maria\n",
      "confidencial\n",
      "Nome:Cecília Ferreira\n",
      "Email:orodrigues@gmail.com\n",
      "CPF:513.762.894-82\n",
      "------------------------------\n",
      "Cemiterio Santa Maria\n",
      "confidencial\n",
      "Nome:Enzo Gabriel Sales\n",
      "Email:felipe77@gmail.com\n",
      "CPF:806.452.937-92\n",
      "------------------------------\n",
      "Cemiterio Santa Maria\n",
      "confidencial\n",
      "Nome:Isadora Aragão\n",
      "Email:cteixeira@gmail.org\n",
      "CPF:216.350.987-77\n",
      "------------------------------\n",
      "Cemiterio Santa Maria\n",
      "confidencial\n",
      "Nome:Sofia da Cunha\n",
      "Email:isabelly77@gmail.net\n",
      "CPF:891.472.650-94\n",
      "------------------------------\n",
      "Cemiterio Santa Maria\n",
      "confidencial\n",
      "Nome:Benício Cardoso\n",
      "Email:renan37@gmail.net\n",
      "CPF:782.491.365-19\n",
      "------------------------------\n",
      "Cemiterio Santa Maria\n",
      "confidencial\n",
      "Nome:Sr. Daniel Pinto\n",
      "Email:gomescecilia@gmail.com\n",
      "CPF:706.589.213-12\n",
      "------------------------------\n"
     ]
    }
   ],
   "source": [
    "import pyautogui as gui\n",
    "import pyperclip\n",
    "from faker import Faker\n",
    "import time\n",
    "gui.PAUSE = 1\n",
    "\n",
    "\n",
    "from faker import Faker\n",
    "\n",
    "fake = Faker('pt_BR')\n",
    "\n",
    "nomes = set()\n",
    "emails = set()\n",
    "cpfs = set()\n",
    "numeros = set()\n",
    "indice = 0\n",
    "\n",
    "for indice in range(0, 10):\n",
    "    indice += 1\n",
    "   \n",
    "    time.sleep(2)\n",
    "    \n",
    "    nome = fake.name()\n",
    "    email = (fake.email()).replace('example', 'gmail')\n",
    "    cpf = fake.cpf()\n",
    "    numero = fake.phone_number()\n",
    "    print('Cemiterio Santa Maria')\n",
    "    print('confidencial')\n",
    "    \n",
    "    if not nome in nomes and not email in emails and not cpf in cpfs and not numero in numeros:\n",
    "        pyautogui.PAUSE = 1\n",
    "        nomes.add(nome)\n",
    "        emails.add(email)\n",
    "        cpfs.add(cpf)\n",
    "        print('Nome:' + nome + '\\n' + 'Email:' + email + '\\n' + 'CPF:' + cpf)\n",
    "        print('-' * 30)\n",
    "\n",
    "        \n"
   ]
  },
  {
   "cell_type": "markdown",
   "id": "946726f0",
   "metadata": {},
   "source": [
    "##### "
   ]
  },
  {
   "cell_type": "code",
   "execution_count": 118,
   "id": "83055fba",
   "metadata": {},
   "outputs": [
    {
     "name": "stdout",
     "output_type": "stream",
     "text": [
      "Sem Replace:  luiz-otavio45@example.com\n",
      "Replace:  luiz-otavio45@gmail.com\n",
      "\n",
      "\n",
      "Sem Replace:  duarteaugusto@example.org\n",
      "Replace:  duarteaugusto@gmail.org\n",
      "\n",
      "\n",
      "Sem Replace:  limalavinia@example.org\n",
      "Replace:  limalavinia@gmail.org\n",
      "\n",
      "\n",
      "Sem Replace:  novaestheo@example.net\n",
      "Replace:  novaestheo@gmail.net\n",
      "\n",
      "\n",
      "Sem Replace:  castrocarlos-eduardo@example.org\n",
      "Replace:  castrocarlos-eduardo@gmail.org\n",
      "\n",
      "\n"
     ]
    }
   ],
   "source": [
    "from faker import Faker\n",
    "import time\n",
    "from faker import Faker\n",
    "fake = Faker('pt_BR')\n",
    "\n",
    "\n",
    "for indice in range(0, 5):\n",
    "    email = fake.email()\n",
    "    replace = email.replace('example', 'gmail')\n",
    "\n",
    "    \n",
    "    print('Sem Replace: ', email)\n",
    "    print('Replace: ', replace)\n",
    "    print('\\n')"
   ]
  },
  {
   "cell_type": "code",
   "execution_count": null,
   "id": "8f06069d",
   "metadata": {},
   "outputs": [],
   "source": []
  },
  {
   "cell_type": "code",
   "execution_count": null,
   "id": "aacbe883",
   "metadata": {},
   "outputs": [],
   "source": []
  },
  {
   "cell_type": "code",
   "execution_count": null,
   "id": "3de0d69d",
   "metadata": {},
   "outputs": [],
   "source": []
  }
 ],
 "metadata": {
  "kernelspec": {
   "display_name": "Python 3 (ipykernel)",
   "language": "python",
   "name": "python3"
  },
  "language_info": {
   "codemirror_mode": {
    "name": "ipython",
    "version": 3
   },
   "file_extension": ".py",
   "mimetype": "text/x-python",
   "name": "python",
   "nbconvert_exporter": "python",
   "pygments_lexer": "ipython3",
   "version": "3.9.12"
  }
 },
 "nbformat": 4,
 "nbformat_minor": 5
}
