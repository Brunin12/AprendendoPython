{
 "cells": [
  {
   "cell_type": "code",
   "execution_count": 58,
   "id": "db3d453d",
   "metadata": {},
   "outputs": [
    {
     "data": {
      "text/plain": [
       "Point(x=351, y=683)"
      ]
     },
     "execution_count": 58,
     "metadata": {},
     "output_type": "execute_result"
    }
   ],
   "source": [
    "import pyautogui\n",
    "time.sleep(5)\n",
    "pyautogui.position()"
   ]
  },
  {
   "cell_type": "code",
   "execution_count": null,
   "id": "58deda12",
   "metadata": {},
   "outputs": [],
   "source": [
    "import pyautogui\n",
    "import time\n",
    "time.sleep(5)\n",
    "pyautogui.scroll(-600)\n",
    "while True:\n",
    "    time.sleep(5)\n",
    "    pyautogui.alert(pyautogui.position())"
   ]
  },
  {
   "cell_type": "code",
   "execution_count": null,
   "id": "b3c39520",
   "metadata": {},
   "outputs": [],
   "source": []
  },
  {
   "cell_type": "code",
   "execution_count": 96,
   "id": "f292682a",
   "metadata": {},
   "outputs": [
    {
     "ename": "SyntaxError",
     "evalue": "EOL while scanning string literal (1249541480.py, line 13)",
     "output_type": "error",
     "traceback": [
      "\u001b[1;36m  Input \u001b[1;32mIn [96]\u001b[1;36m\u001b[0m\n\u001b[1;33m    pyautogui.press('enter)\u001b[0m\n\u001b[1;37m                           ^\u001b[0m\n\u001b[1;31mSyntaxError\u001b[0m\u001b[1;31m:\u001b[0m EOL while scanning string literal\n"
     ]
    }
   ],
   "source": [
    "import pyautogui as gui\n",
    "import pyperclip\n",
    "from faker import Faker\n",
    "import time\n",
    "gui.PAUSE = 1\n",
    "\n",
    "gui.alert('vai começar, aperte ok e não mecha em nada!', 'Salvador do sesc, diga não ao -5%')\n",
    "gui.hotkey('ctrl', 't')\n",
    "\n",
    "pyperclip.copy('https://peticaopublica.com.br/psign.aspx?pi=BR131846')\n",
    "url = pyperclip.paste()\n",
    "gui.hotkey('ctrl','v')\n",
    "pyautogui.press('enter')\n",
    "\n",
    "from faker import Faker\n",
    "\n",
    "fake = Faker('pt_BR')\n",
    "\n",
    "nomes = set()\n",
    "emails = set()\n",
    "cpfs = set()\n",
    "numeros = set()\n",
    "indice = 0\n",
    "\n",
    "while True:\n",
    "    indice += 1\n",
    "    gui.scroll(-500)\n",
    "    time.sleep(2)\n",
    "    \n",
    "    nome = fake.name()\n",
    "    email = fake.email()\n",
    "    cpf = fake.cpf()\n",
    "    numero = fake.phone_number()\n",
    "    \n",
    "    if not nome in nomes and not email in emails and not cpf in cpfs and not numero in numeros:\n",
    "        pyautogui.PAUSE = 1\n",
    "        nomes.add(nome)\n",
    "        emails.add(email)\n",
    "        cpfs.add(cpf)\n",
    "        pyautogui.scroll(-600)\n",
    "        # nome\n",
    "        gui.click(463, 303)\n",
    "        gui.write(nome)\n",
    "        # gmail\n",
    "        gui.click(414, 358)\n",
    "        gui.write(email)\n",
    "        # cpf\n",
    "        gui.click(341, 428)\n",
    "        gui.write(cpf)\n",
    "        # estado\n",
    "        gui.click(310, 485)\n",
    "        gui.write('ba')\n",
    "        #comercio\n",
    "        gui.click(356, 571)\n",
    "        #enviar\n",
    "        gui.press('enter')\n",
    "        \n",
    "        \n",
    "\n",
    "        gui.alert('assinatura feita')\n",
    "        time.sleep(10)\n"
   ]
  },
  {
   "cell_type": "markdown",
   "id": "59c43ad1",
   "metadata": {},
   "source": [
    "###### "
   ]
  }
 ],
 "metadata": {
  "kernelspec": {
   "display_name": "Python 3 (ipykernel)",
   "language": "python",
   "name": "python3"
  },
  "language_info": {
   "codemirror_mode": {
    "name": "ipython",
    "version": 3
   },
   "file_extension": ".py",
   "mimetype": "text/x-python",
   "name": "python",
   "nbconvert_exporter": "python",
   "pygments_lexer": "ipython3",
   "version": "3.9.12"
  }
 },
 "nbformat": 4,
 "nbformat_minor": 5
}
