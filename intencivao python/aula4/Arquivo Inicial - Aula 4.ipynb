{
 "cells": [
  {
   "cell_type": "markdown",
   "metadata": {},
   "source": [
    "# Projeto Ciência de Dados - Previsão de Vendas\n",
    "\n",
    "- Nosso desafio é conseguir prever as vendas que vamos ter em determinado período com base nos gastos em anúncios nas 3 grandes redes que a empresa Hashtag investe: TV, Jornal e Rádio\n",
    "\n",
    "- Base de Dados: https://drive.google.com/drive/folders/1o2lpxoi9heyQV1hIlsHXWSfDkBPtze-V?usp=sharing"
   ]
  },
  {
   "cell_type": "markdown",
   "metadata": {},
   "source": [
    "### Passo a Passo de um Projeto de Ciência de Dados\n",
    "\n",
    "- Passo 1: Entendimento do Desafio\n",
    "- Passo 2: Entendimento da Área/Empresa\n",
    "- Passo 3: Extração/Obtenção de Dados\n",
    "- Passo 4: Ajuste de Dados (Tratamento/Limpeza)\n",
    "- Passo 5: Análise Exploratória\n",
    "- Passo 6: Modelagem + Algoritmos (Aqui que entra a Inteligência Artificial, se necessário)\n",
    "- Passo 7: Interpretação de Resultados"
   ]
  },
  {
   "cell_type": "markdown",
   "metadata": {},
   "source": [
    "# Projeto Ciência de Dados - Previsão de Vendas\n",
    "\n",
    "- Nosso desafio é conseguir prever as vendas que vamos ter em determinado período com base nos gastos em anúncios nas 3 grandes redes que a empresa Hashtag investe: TV, Jornal e Rádio\n",
    "- TV, Jornal e Rádio estão em milhares de reais\n",
    "- Vendas estão em milhões"
   ]
  },
  {
   "cell_type": "markdown",
   "metadata": {},
   "source": [
    "#### Importar a Base de dados"
   ]
  },
  {
   "cell_type": "code",
   "execution_count": null,
   "metadata": {},
   "outputs": [],
   "source": [
    "import pandas as pd\n",
    "\n",
    "tabela = pd.read_csv(\"advertising.csv\")\n",
    "display(tabela)\n",
    "\n"
   ]
  },
  {
   "cell_type": "markdown",
   "metadata": {},
   "source": [
    "#### Análise Exploratória\n",
    "- Vamos tentar visualizar como as informações de cada item estão distribuídas\n",
    "- Vamos ver a correlação entre cada um dos itens"
   ]
  },
  {
   "cell_type": "code",
   "execution_count": null,
   "metadata": {},
   "outputs": [],
   "source": [
    "import matplotlib.pyplot as plt\n",
    "import seaborn as sns\n",
    "\n",
    "display(tabela.corr())\n",
    "\n",
    "# criar grafico\n",
    "\n",
    "sns.heatmap(tabela.corr(), cmap=\"Wistia\", annot=True)\n",
    "\n",
    "# mostrar\n",
    "plt.show()"
   ]
  },
  {
   "cell_type": "markdown",
   "metadata": {},
   "source": [
    "#### Com isso, podemos partir para a preparação dos dados para treinarmos o Modelo de Machine Learning\n",
    "\n",
    "- Separando em dados de treino e dados de teste"
   ]
  },
  {
   "cell_type": "code",
   "execution_count": null,
   "metadata": {},
   "outputs": [],
   "source": [
    "# y -> quem quero prever\n",
    "# x -> resto\n",
    "\n",
    "\n",
    "y = tabela[\"Vendas\"]\n",
    "x = tabela[[\"TV\", \"Radio\", \"Jornal\"]]\n",
    "\n",
    "from sklearn.model_selection import train_test_split\n",
    "\n",
    "x_treino, x_teste, y_treino, y_teste = train_test_split(x, y, test_size=0.4)"
   ]
  },
  {
   "cell_type": "markdown",
   "metadata": {},
   "source": [
    "#### Temos um problema de regressão - Vamos escolher os modelos que vamos usar:\n",
    "\n",
    "- Regressão Linear\n",
    "- RandomForest (Árvore de Decisão)"
   ]
  },
  {
   "cell_type": "code",
   "execution_count": null,
   "metadata": {},
   "outputs": [],
   "source": [
    "from sklearn.linear_model import LinearRegression\n",
    "from sklearn.ensemble import RandomForestRegressor\n",
    "\n",
    "modelo_regressaolinear = LinearRegression()\n",
    "modelo_arvoredecisao = RandomForestRegressor()\n",
    "\n",
    "modelo_regressaolinear.fit(x_treino, y_treino)\n",
    "modelo_arvoredecisao.fit(x_treino, y_treino)\n"
   ]
  },
  {
   "cell_type": "markdown",
   "metadata": {},
   "source": [
    "#### Teste da AI e Avaliação do Melhor Modelo\n",
    "\n",
    "- Vamos usar o R² -> diz o % que o nosso modelo consegue explicar o que acontece"
   ]
  },
  {
   "cell_type": "code",
   "execution_count": null,
   "metadata": {},
   "outputs": [],
   "source": [
    "# fazer as previsões \n",
    "\n",
    "p_regressaolinear = modelo_regressaolinear.predict(x_teste)\n",
    "p_arvoredecisao = modelo_arvoredecisao.predict(x_teste)\n",
    "\n",
    "from sklearn.metrics import r2_score\n",
    "\n",
    "print(\"previsão da regreção linear:  \", r2_score(y_teste, p_regressaolinear))\n",
    "print(\"previsão da arvore de decisão:\", r2_score(y_teste, p_arvoredecisao))"
   ]
  },
  {
   "cell_type": "markdown",
   "metadata": {},
   "source": [
    "#### Visualização Gráfica das Previsões"
   ]
  },
  {
   "cell_type": "code",
   "execution_count": null,
   "metadata": {
    "scrolled": false
   },
   "outputs": [],
   "source": [
    "tbl_ax = pd.DataFrame()\n",
    "tbl_ax[\"y_teste\"] = y_teste\n",
    "tbl_ax[\"arvore decisao\"] = p_arvoredecisao\n",
    "tbl_ax[\"regressao linear\"] = p_regressaolinear\n",
    "\n",
    "plt.figure(figsize=(15, 6))\n",
    "sns.lineplot(data=tbl_ax)\n",
    "\n",
    "plt.show()"
   ]
  },
  {
   "cell_type": "markdown",
   "metadata": {},
   "source": [
    "#### Como fazer uma nova previsão?"
   ]
  },
  {
   "cell_type": "code",
   "execution_count": null,
   "metadata": {},
   "outputs": [],
   "source": [
    "novos_dados = pd.read_csv(\"novos.csv\")\n",
    "display(novos_dados)"
   ]
  },
  {
   "cell_type": "code",
   "execution_count": null,
   "metadata": {},
   "outputs": [],
   "source": [
    "display(modelo_arvoredecisao.predict(novos_dados))"
   ]
  },
  {
   "cell_type": "code",
   "execution_count": null,
   "metadata": {},
   "outputs": [],
   "source": []
  }
 ],
 "metadata": {
  "kernelspec": {
   "display_name": "Python 3 (ipykernel)",
   "language": "python",
   "name": "python3"
  },
  "language_info": {
   "codemirror_mode": {
    "name": "ipython",
    "version": 3
   },
   "file_extension": ".py",
   "mimetype": "text/x-python",
   "name": "python",
   "nbconvert_exporter": "python",
   "pygments_lexer": "ipython3",
   "version": "3.9.12"
  }
 },
 "nbformat": 4,
 "nbformat_minor": 4
}
